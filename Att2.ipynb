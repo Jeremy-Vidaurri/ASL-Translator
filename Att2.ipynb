{
 "cells": [
  {
   "cell_type": "markdown",
   "id": "4d504b48-33e4-42ef-a256-7d2a25b67fd9",
   "metadata": {},
   "source": [
    "# American Sign Language (ASL) Translator"
   ]
  },
  {
   "cell_type": "markdown",
   "id": "9b8a2675-916f-4d38-8787-8d6d3f827f61",
   "metadata": {
    "jp-MarkdownHeadingCollapsed": true,
    "tags": []
   },
   "source": [
    "## Imports"
   ]
  },
  {
   "cell_type": "code",
   "execution_count": null,
   "id": "b69ec1a4-73e0-427a-9864-53cb8fd474fb",
   "metadata": {},
   "outputs": [],
   "source": [
    "!pip install mediapipe\n",
    "!pip install tensorflow\n",
    "!pip install kaggle\n",
    "!kaggle datasets download -d grassknoted/asl-alphabet"
   ]
  },
  {
   "cell_type": "code",
   "execution_count": null,
   "id": "8b5ad6af-10f7-4d29-a77e-9d8f2eb40d85",
   "metadata": {},
   "outputs": [],
   "source": [
    "import patoolib\n",
    "patoolib.extract_archive(\"asl-alphabet.zip\")"
   ]
  },
  {
   "cell_type": "code",
   "execution_count": 1,
   "id": "843882c2-084d-4f0f-88fa-fb1c968ec9c9",
   "metadata": {},
   "outputs": [],
   "source": [
    "import tensorflow as tf\n",
    "import numpy as np\n",
    "import time\n",
    "import pandas as pd\n",
    "import matplotlib.pyplot as plt\n",
    "\n",
    "from pathlib import Path\n",
    "\n",
    "import cv2\n",
    "from tensorflow.keras.preprocessing import image\n",
    "from tensorflow.keras.layers import Dense"
   ]
  },
  {
   "cell_type": "markdown",
   "id": "5587afbe-c747-4ef9-a36a-1678c4015ab9",
   "metadata": {
    "tags": []
   },
   "source": [
    "## Preprocessing"
   ]
  },
  {
   "cell_type": "code",
   "execution_count": 2,
   "id": "dcd0f468-c4b9-41b7-862b-2aa61a71eadf",
   "metadata": {},
   "outputs": [
    {
     "name": "stdout",
     "output_type": "stream",
     "text": [
      "Found 87000 files belonging to 29 classes.\n",
      "Using 69600 files for training.\n",
      "Found 87000 files belonging to 29 classes.\n",
      "Using 17400 files for validation.\n",
      "['A', 'B', 'C', 'D', 'E', 'F', 'G', 'H', 'I', 'J', 'K', 'L', 'M', 'N', 'O', 'P', 'Q', 'R', 'S', 'T', 'U', 'V', 'W', 'X', 'Y', 'Z', 'del', 'nothing', 'space']\n"
     ]
    }
   ],
   "source": [
    "path_Train = \"C:/HackWesTX/asl_alphabet_train/asl_alphabet_train\"\n",
    "data_dir = Path(path_Train)\n",
    "batch_size = 100\n",
    "img_height = 48\n",
    "img_width = 48\n",
    "\n",
    "train_ds = tf.keras.utils.image_dataset_from_directory(\n",
    "  data_dir,\n",
    "  validation_split=0.2,\n",
    "  subset=\"training\",\n",
    "  seed=123,\n",
    "  image_size=(img_height, img_width),\n",
    "  batch_size=batch_size)\n",
    "\n",
    "val_ds = tf.keras.utils.image_dataset_from_directory(\n",
    "  data_dir,\n",
    "  validation_split=0.2,\n",
    "  subset=\"validation\",\n",
    "  seed=123,\n",
    "  image_size=(img_height, img_width),\n",
    "  batch_size=batch_size)\n",
    "\n",
    "global class_names\n",
    "class_names = train_ds.class_names\n",
    "print(class_names)"
   ]
  },
  {
   "cell_type": "code",
   "execution_count": 3,
   "id": "7377d34a-b867-4481-9e3c-5c7dcf02910e",
   "metadata": {
    "tags": []
   },
   "outputs": [],
   "source": [
    "#defining the model\n",
    "\n",
    "from keras.layers import Dense, Input, Dropout, GlobalAveragePooling2D, Flatten, Conv2D, BatchNormalization, Activation, MaxPooling2D\n",
    "from keras.models import Model, Sequential\n",
    "from tensorflow.keras.optimizers import Adam\n",
    "\n",
    "# number of possible label values\n",
    "nb_classes = 29\n",
    "\n",
    "model = tf.keras.Sequential([\n",
    "  tf.keras.layers.Rescaling(1./255),\n",
    "  tf.keras.layers.Conv2D(32, 3, activation='relu'),\n",
    "  tf.keras.layers.MaxPooling2D(),\n",
    "  tf.keras.layers.Conv2D(32, 3, activation='relu'),\n",
    "  tf.keras.layers.MaxPooling2D(),\n",
    "  tf.keras.layers.Conv2D(32, 3, activation='relu'),\n",
    "  tf.keras.layers.MaxPooling2D(),\n",
    "  tf.keras.layers.Flatten(),\n",
    "  tf.keras.layers.Dense(128, activation='relu'),\n",
    "  tf.keras.layers.Dense(nb_classes)\n",
    "])\n",
    "\n",
    "opt = Adam(learning_rate=0.0001)\n",
    "model.compile(optimizer=opt, loss=tf.losses.SparseCategoricalCrossentropy(from_logits=True), metrics=['accuracy'])"
   ]
  },
  {
   "cell_type": "markdown",
   "id": "784fba16-aa87-4ff8-8528-701d74e39559",
   "metadata": {
    "tags": []
   },
   "source": [
    "## Model Training and Validation"
   ]
  },
  {
   "cell_type": "code",
   "execution_count": 4,
   "id": "57f2fbf0-06f4-4e1b-aa6a-cfc42c98a192",
   "metadata": {},
   "outputs": [
    {
     "name": "stdout",
     "output_type": "stream",
     "text": [
      "Epoch 1/50\n",
      "696/696 [==============================] - 222s 317ms/step - loss: 2.9187 - accuracy: 0.1926 - val_loss: 2.3550 - val_accuracy: 0.3211\n",
      "Epoch 2/50\n",
      "696/696 [==============================] - 114s 164ms/step - loss: 1.9753 - accuracy: 0.4225 - val_loss: 1.6915 - val_accuracy: 0.4900\n",
      "Epoch 3/50\n",
      "696/696 [==============================] - 110s 158ms/step - loss: 1.4734 - accuracy: 0.5600 - val_loss: 1.3136 - val_accuracy: 0.5981\n",
      "Epoch 4/50\n",
      "696/696 [==============================] - 113s 162ms/step - loss: 1.1791 - accuracy: 0.6428 - val_loss: 1.0750 - val_accuracy: 0.6716\n",
      "Epoch 5/50\n",
      "696/696 [==============================] - 115s 165ms/step - loss: 0.9806 - accuracy: 0.7039 - val_loss: 0.9106 - val_accuracy: 0.7293\n",
      "Epoch 6/50\n",
      "696/696 [==============================] - 109s 157ms/step - loss: 0.8421 - accuracy: 0.7473 - val_loss: 0.7943 - val_accuracy: 0.7593\n",
      "Epoch 7/50\n",
      "696/696 [==============================] - 113s 162ms/step - loss: 0.7341 - accuracy: 0.7786 - val_loss: 0.7191 - val_accuracy: 0.7817\n",
      "Epoch 8/50\n",
      "696/696 [==============================] - 113s 162ms/step - loss: 0.6429 - accuracy: 0.8076 - val_loss: 0.6190 - val_accuracy: 0.8180\n",
      "Epoch 9/50\n",
      "696/696 [==============================] - 114s 164ms/step - loss: 0.5735 - accuracy: 0.8275 - val_loss: 0.5798 - val_accuracy: 0.8168\n",
      "Epoch 10/50\n",
      "696/696 [==============================] - 119s 170ms/step - loss: 0.5182 - accuracy: 0.8422 - val_loss: 0.5004 - val_accuracy: 0.8489\n",
      "Epoch 11/50\n",
      "696/696 [==============================] - 115s 165ms/step - loss: 0.4632 - accuracy: 0.8602 - val_loss: 0.4795 - val_accuracy: 0.8517\n",
      "Epoch 12/50\n",
      "696/696 [==============================] - 109s 156ms/step - loss: 0.4184 - accuracy: 0.8725 - val_loss: 0.4114 - val_accuracy: 0.8760\n",
      "Epoch 13/50\n",
      "696/696 [==============================] - 113s 162ms/step - loss: 0.3757 - accuracy: 0.8868 - val_loss: 0.3889 - val_accuracy: 0.8825\n",
      "Epoch 14/50\n",
      "696/696 [==============================] - 114s 164ms/step - loss: 0.3421 - accuracy: 0.8967 - val_loss: 0.3533 - val_accuracy: 0.8928\n",
      "Epoch 15/50\n",
      "696/696 [==============================] - 114s 164ms/step - loss: 0.3118 - accuracy: 0.9050 - val_loss: 0.3104 - val_accuracy: 0.9076\n",
      "Epoch 16/50\n",
      "696/696 [==============================] - 115s 164ms/step - loss: 0.2829 - accuracy: 0.9146 - val_loss: 0.2898 - val_accuracy: 0.9123\n",
      "Epoch 17/50\n",
      "696/696 [==============================] - 109s 157ms/step - loss: 0.2565 - accuracy: 0.9242 - val_loss: 0.2902 - val_accuracy: 0.9086\n",
      "Epoch 18/50\n",
      "696/696 [==============================] - 113s 162ms/step - loss: 0.2386 - accuracy: 0.9285 - val_loss: 0.2290 - val_accuracy: 0.9333\n",
      "Epoch 19/50\n",
      "696/696 [==============================] - 112s 161ms/step - loss: 0.2127 - accuracy: 0.9371 - val_loss: 0.2226 - val_accuracy: 0.9324\n",
      "Epoch 20/50\n",
      "696/696 [==============================] - 112s 161ms/step - loss: 0.1960 - accuracy: 0.9429 - val_loss: 0.2061 - val_accuracy: 0.9371\n",
      "Epoch 21/50\n",
      "696/696 [==============================] - 114s 164ms/step - loss: 0.1821 - accuracy: 0.9465 - val_loss: 0.1890 - val_accuracy: 0.9451\n",
      "Epoch 22/50\n",
      "696/696 [==============================] - 114s 163ms/step - loss: 0.1675 - accuracy: 0.9509 - val_loss: 0.1692 - val_accuracy: 0.9534\n",
      "Epoch 23/50\n",
      "696/696 [==============================] - 111s 159ms/step - loss: 0.1507 - accuracy: 0.9568 - val_loss: 0.1558 - val_accuracy: 0.9558\n",
      "Epoch 24/50\n",
      "696/696 [==============================] - 112s 161ms/step - loss: 0.1395 - accuracy: 0.9598 - val_loss: 0.1542 - val_accuracy: 0.9516\n",
      "Epoch 25/50\n",
      "696/696 [==============================] - 118s 170ms/step - loss: 0.1305 - accuracy: 0.9633 - val_loss: 0.1480 - val_accuracy: 0.9554\n",
      "Epoch 26/50\n",
      "696/696 [==============================] - 114s 163ms/step - loss: 0.1198 - accuracy: 0.9661 - val_loss: 0.1259 - val_accuracy: 0.9640\n",
      "Epoch 27/50\n",
      "696/696 [==============================] - 114s 163ms/step - loss: 0.1104 - accuracy: 0.9685 - val_loss: 0.1283 - val_accuracy: 0.9598\n",
      "Epoch 28/50\n",
      "696/696 [==============================] - 117s 168ms/step - loss: 0.1013 - accuracy: 0.9716 - val_loss: 0.1141 - val_accuracy: 0.9648\n",
      "Epoch 29/50\n",
      "696/696 [==============================] - 120s 172ms/step - loss: 0.0949 - accuracy: 0.9733 - val_loss: 0.1120 - val_accuracy: 0.9655\n",
      "Epoch 30/50\n",
      "696/696 [==============================] - 120s 172ms/step - loss: 0.0886 - accuracy: 0.9755 - val_loss: 0.0919 - val_accuracy: 0.9738\n",
      "Epoch 31/50\n",
      "696/696 [==============================] - 115s 165ms/step - loss: 0.0843 - accuracy: 0.9760 - val_loss: 0.1155 - val_accuracy: 0.9638\n",
      "Epoch 32/50\n",
      "696/696 [==============================] - 114s 164ms/step - loss: 0.0752 - accuracy: 0.9795 - val_loss: 0.0818 - val_accuracy: 0.9769\n",
      "Epoch 33/50\n",
      "696/696 [==============================] - 113s 162ms/step - loss: 0.0725 - accuracy: 0.9803 - val_loss: 0.0915 - val_accuracy: 0.9726\n",
      "Epoch 34/50\n",
      "696/696 [==============================] - 114s 164ms/step - loss: 0.0684 - accuracy: 0.9811 - val_loss: 0.0998 - val_accuracy: 0.9657\n",
      "Epoch 35/50\n",
      "696/696 [==============================] - 113s 162ms/step - loss: 0.0626 - accuracy: 0.9831 - val_loss: 0.0946 - val_accuracy: 0.9686\n",
      "Epoch 36/50\n",
      "696/696 [==============================] - 114s 164ms/step - loss: 0.0585 - accuracy: 0.9846 - val_loss: 0.1015 - val_accuracy: 0.9654\n",
      "Epoch 37/50\n",
      "696/696 [==============================] - 115s 165ms/step - loss: 0.0546 - accuracy: 0.9856 - val_loss: 0.0568 - val_accuracy: 0.9843\n",
      "Epoch 38/50\n",
      "696/696 [==============================] - 121s 173ms/step - loss: 0.0525 - accuracy: 0.9858 - val_loss: 0.0694 - val_accuracy: 0.9797\n",
      "Epoch 39/50\n",
      "696/696 [==============================] - 114s 164ms/step - loss: 0.0475 - accuracy: 0.9877 - val_loss: 0.0637 - val_accuracy: 0.9813\n",
      "Epoch 40/50\n",
      "696/696 [==============================] - 115s 164ms/step - loss: 0.0434 - accuracy: 0.9891 - val_loss: 0.0721 - val_accuracy: 0.9755\n",
      "Epoch 41/50\n",
      "696/696 [==============================] - 115s 165ms/step - loss: 0.0439 - accuracy: 0.9883 - val_loss: 0.0590 - val_accuracy: 0.9818\n",
      "Epoch 42/50\n",
      "696/696 [==============================] - 115s 165ms/step - loss: 0.0405 - accuracy: 0.9891 - val_loss: 0.0502 - val_accuracy: 0.9851\n",
      "Epoch 43/50\n",
      "696/696 [==============================] - 115s 165ms/step - loss: 0.0398 - accuracy: 0.9893 - val_loss: 0.0541 - val_accuracy: 0.9836\n",
      "Epoch 44/50\n",
      "696/696 [==============================] - 113s 162ms/step - loss: 0.0348 - accuracy: 0.9913 - val_loss: 0.0457 - val_accuracy: 0.9857\n",
      "Epoch 45/50\n",
      "696/696 [==============================] - 109s 156ms/step - loss: 0.0342 - accuracy: 0.9913 - val_loss: 0.0444 - val_accuracy: 0.9866\n",
      "Epoch 46/50\n",
      "696/696 [==============================] - 109s 156ms/step - loss: 0.0311 - accuracy: 0.9925 - val_loss: 0.0482 - val_accuracy: 0.9845\n",
      "Epoch 47/50\n",
      "696/696 [==============================] - 109s 157ms/step - loss: 0.0339 - accuracy: 0.9911 - val_loss: 0.0502 - val_accuracy: 0.9828\n",
      "Epoch 48/50\n",
      "696/696 [==============================] - 110s 157ms/step - loss: 0.0285 - accuracy: 0.9930 - val_loss: 0.0343 - val_accuracy: 0.9909\n",
      "Epoch 49/50\n",
      "696/696 [==============================] - 109s 156ms/step - loss: 0.0281 - accuracy: 0.9929 - val_loss: 0.0423 - val_accuracy: 0.9874\n",
      "Epoch 50/50\n",
      "696/696 [==============================] - 109s 156ms/step - loss: 0.0264 - accuracy: 0.9936 - val_loss: 0.0283 - val_accuracy: 0.9924\n"
     ]
    }
   ],
   "source": [
    "history = model.fit(train_ds,validation_data=val_ds,epochs = 50)"
   ]
  },
  {
   "cell_type": "code",
   "execution_count": 5,
   "id": "82381eaf-829c-4315-b899-1ffd09dd55c1",
   "metadata": {},
   "outputs": [
    {
     "name": "stdout",
     "output_type": "stream",
     "text": [
      "INFO:tensorflow:Assets written to: asl.model\\assets\n"
     ]
    }
   ],
   "source": [
    "model.save(\"asl.model\")"
   ]
  },
  {
   "cell_type": "markdown",
   "id": "a168ee2b-b46f-43e1-9bee-6740d1392101",
   "metadata": {},
   "source": [
    "## Training Results"
   ]
  },
  {
   "cell_type": "code",
   "execution_count": 6,
   "id": "f38e128c-0d54-46b3-a0b8-01ae53c21316",
   "metadata": {},
   "outputs": [
    {
     "data": {
      "image/png": "[encoded data removed]",
      "text/plain": [
       "<Figure size 432x288 with 1 Axes>"
      ]
     },
     "metadata": {
      "needs_background": "light"
     },
     "output_type": "display_data"
    }
   ],
   "source": [
    "# Plot history: Loss\n",
    "plt.plot(history.history['loss'], label='Loss (training data)')\n",
    "plt.plot(history.history['val_loss'], label='Loss (validation data)')\n",
    "plt.title('Loss for ASL Translation')\n",
    "plt.ylabel('Loss')\n",
    "plt.xlabel('Epoch No.')\n",
    "plt.legend(loc=\"upper right\")\n",
    "plt.show()"
   ]
  },
  {
   "cell_type": "code",
   "execution_count": 7,
   "id": "970ba03c-6179-4ee6-a70d-b6b17c4bda0f",
   "metadata": {},
   "outputs": [
    {
     "data": {
      "image/png": "[encoded data removed]",
      "text/plain": [
       "<Figure size 432x288 with 1 Axes>"
      ]
     },
     "metadata": {
      "needs_background": "light"
     },
     "output_type": "display_data"
    }
   ],
   "source": [
    "# Plot history: Accuracy\n",
    "plt.plot(history.history['accuracy'], label='Accuracy (training data)')\n",
    "plt.plot(history.history['val_accuracy'], label='Accuracy (validation data)')\n",
    "plt.title('Accuracy for ASL Translation')\n",
    "plt.ylabel('Accuracy')\n",
    "plt.xlabel('Epoch No.')\n",
    "plt.legend(loc=\"lower right\")\n",
    "plt.show()"
   ]
  },
  {
   "cell_type": "markdown",
   "id": "00155964-bf56-4826-82e6-356324404da7",
   "metadata": {},
   "source": [
    "## Predictions from Camera Input"
   ]
  },
  {
   "cell_type": "code",
   "execution_count": 9,
   "id": "b00d2e03-0451-46da-82b0-7891f04825b7",
   "metadata": {},
   "outputs": [],
   "source": [
    "from tensorflow.keras.models import load_model\n",
    "model = load_model('asl.model')"
   ]
  },
  {
   "cell_type": "code",
   "execution_count": 12,
   "id": "914c13db-b4b1-4374-a705-16c9dfeaa2b7",
   "metadata": {},
   "outputs": [],
   "source": [
    "cap = cv2.VideoCapture(1)\n",
    "while True:\n",
    "    ret, frame = cap.read()\n",
    "    if not ret:\n",
    "        print(\"Error: Webcam is being used by another program!\")\n",
    "        break\n",
    "    \n",
    "    \n",
    "    \n",
    "    \n",
    "    inp = cv2.resize(frame,(48,48))\n",
    "    rgbImg = cv2.cvtColor(inp,cv2.COLOR_BGR2RGB)\n",
    "    \n",
    "    input_tensor = tf.convert_to_tensor(rgbImg, dtype=tf.float32)\n",
    "    input_tensor = tf.expand_dims(input_tensor, 0)\n",
    "    predictionID = model.predict(input_tensor).argmax(axis=1)\n",
    "    #print(str(int(predictionID)))\n",
    "    classPrediction = class_names[int(predictionID)]\n",
    "    frame = np.fliplr(frame).copy()\n",
    "    cv2.putText(frame,str(classPrediction), (50, 50),cv2.FONT_HERSHEY_SIMPLEX,1, (255,0,0),2,cv2.LINE_AA)\n",
    "    cv2.imshow('frame',frame)\n",
    "    if cv2.waitKey(1) == ord('q'):\n",
    "        cap.release()\n",
    "        cv2.destroyAllWindows()\n",
    "        break"
   ]
  },
  {
   "cell_type": "code",
   "execution_count": null,
   "id": "9a2a2b3a-789f-4f91-9082-e3ec6e7a7b19",
   "metadata": {},
   "outputs": [],
   "source": []
  }
 ],
 "metadata": {
  "kernelspec": {
   "display_name": "Python 3 (ipykernel)",
   "language": "python",
   "name": "python3"
  },
  "language_info": {
   "codemirror_mode": {
    "name": "ipython",
    "version": 3
   },
   "file_extension": ".py",
   "mimetype": "text/x-python",
   "name": "python",
   "nbconvert_exporter": "python",
   "pygments_lexer": "ipython3",
   "version": "3.9.7"
  }
 },
 "nbformat": 4,
 "nbformat_minor": 5
}
